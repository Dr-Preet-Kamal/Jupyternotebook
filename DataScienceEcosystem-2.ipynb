{
  "metadata": {
    "kernelspec": {
      "name": "python",
      "display_name": "Python (Pyodide)",
      "language": "python"
    },
    "language_info": {
      "codemirror_mode": {
        "name": "python",
        "version": 3
      },
      "file_extension": ".py",
      "mimetype": "text/x-python",
      "name": "python",
      "nbconvert_exporter": "python",
      "pygments_lexer": "ipython3",
      "version": "3.8"
    }
  },
  "nbformat_minor": 5,
  "nbformat": 4,
  "cells": [
    {
      "id": "2ab68baf-8c52-48e9-9f34-df911dcf2308",
      "cell_type": "code",
      "source": "# Data Science Tools and Ecosystem\n\nThis notebook presents a summary of the Data Science Ecosystem.\n## Some of the popular languages that Data Scientists use are:\n\n1. Python  \n2. R  \n3. SQL  \n4. Julia  \n5. Scala\n\n",
      "metadata": {
        "trusted": true
      },
      "outputs": [],
      "execution_count": null
    },
    {
      "id": "a2a13435-f641-4ee6-9730-c48a27b9245e",
      "cell_type": "code",
      "source": "",
      "metadata": {
        "trusted": true
      },
      "outputs": [],
      "execution_count": null
    },
    {
      "id": "aa6eb000-7caa-49fd-b735-ae28c7a6080b",
      "cell_type": "code",
      "source": "\n### Some of the commonly used libraries used by Data Scientists include:\n\n1. NumPy  \n2. Pandas  \n3. Matplotlib  \n4. Scikit-learn  \n5. TensorFlow\n",
      "metadata": {
        "trusted": true
      },
      "outputs": [],
      "execution_count": null
    },
    {
      "id": "14cfd522-52b8-4892-9486-7a4f93911572",
      "cell_type": "code",
      "source": "| Data Science Tools       |\n|--------------------------|\n| Jupyter Notebook         |\n| RStudio                  |\n| Apache Zeppelin          |\n",
      "metadata": {
        "trusted": true
      },
      "outputs": [],
      "execution_count": null
    },
    {
      "id": "d13d2d44-4be6-48fa-a423-7bda9021d5f9",
      "cell_type": "code",
      "source": "### Below are a few examples of evaluating arithmetic expressions in Python.\n",
      "metadata": {
        "trusted": true
      },
      "outputs": [],
      "execution_count": null
    },
    {
      "id": "3e7f608f-f1e9-4d5e-8d97-cf4e8046d2f4",
      "cell_type": "code",
      "source": "# This is a simple arithmetic expression to multiply then add integers\n(3 * 4) + 5\n",
      "metadata": {
        "trusted": true
      },
      "outputs": [
        {
          "execution_count": 3,
          "output_type": "execute_result",
          "data": {
            "text/plain": "17"
          },
          "metadata": {}
        }
      ],
      "execution_count": 3
    },
    {
      "id": "4a94f605-9c57-4cad-8da4-e62b8c82f955",
      "cell_type": "code",
      "source": "In this code cell writInsert a comment line before the expression to explain the operation e.g.  This will convert 200 minutes to hours by diving by 60.",
      "metadata": {
        "trusted": true
      },
      "outputs": [
        {
          "ename": "<class 'SyntaxError'>",
          "evalue": "invalid syntax (<ipython-input-4-da14ea0df8a6>, line 1)",
          "traceback": [
            "\u001b[0;36m  Cell \u001b[0;32mIn[4], line 1\u001b[0;36m\u001b[0m\n\u001b[0;31m    In this code cell write an expression that converts 200 minutes into hours.\u001b[0m\n\u001b[0m       ^\u001b[0m\n\u001b[0;31mSyntaxError\u001b[0m\u001b[0;31m:\u001b[0m invalid syntax\n"
          ],
          "output_type": "error"
        }
      ],
      "execution_count": 4
    },
    {
      "id": "9d208314-a2f5-47e7-a525-3a1716e6e90f",
      "cell_type": "code",
      "source": "\n# This will convert 200 minutes to hours by dividing by 60\n200 / 60\n",
      "metadata": {
        "trusted": true
      },
      "outputs": [
        {
          "execution_count": 5,
          "output_type": "execute_result",
          "data": {
            "text/plain": "3.3333333333333335"
          },
          "metadata": {}
        }
      ],
      "execution_count": 5
    },
    {
      "id": "271e18d2-d57d-46d6-8ee0-f8484b058d93",
      "cell_type": "code",
      "source": "**Objectives:**\n\n- List popular languages for Data Science  \n- List commonly used libraries for Data Science  \n- Create tables using markdown  \n- Perform arithmetic operations using Python code  \n- Convert units using Python expressions\n",
      "metadata": {
        "trusted": true
      },
      "outputs": [
        {
          "ename": "<class 'SyntaxError'>",
          "evalue": "invalid syntax (<ipython-input-6-c87f49162ee8>, line 1)",
          "traceback": [
            "\u001b[0;36m  Cell \u001b[0;32mIn[6], line 1\u001b[0;36m\u001b[0m\n\u001b[0;31m    **Objectives:**\u001b[0m\n\u001b[0m    ^\u001b[0m\n\u001b[0;31mSyntaxError\u001b[0m\u001b[0;31m:\u001b[0m invalid syntax\n"
          ],
          "output_type": "error"
        }
      ],
      "execution_count": 6
    },
    {
      "id": "de617f23-ecda-4a5f-bd62-2fe375851b82",
      "cell_type": "code",
      "source": "## Author\n\nDr.Preet Kamal\n",
      "metadata": {
        "trusted": true
      },
      "outputs": [
        {
          "ename": "<class 'SyntaxError'>",
          "evalue": "invalid syntax (<ipython-input-7-b46173482e0a>, line 3)",
          "traceback": [
            "\u001b[0;36m  Cell \u001b[0;32mIn[7], line 3\u001b[0;36m\u001b[0m\n\u001b[0;31m    Dr.Preet Kamal\u001b[0m\n\u001b[0m             ^\u001b[0m\n\u001b[0;31mSyntaxError\u001b[0m\u001b[0;31m:\u001b[0m invalid syntax\n"
          ],
          "output_type": "error"
        }
      ],
      "execution_count": 7
    },
    {
      "id": "3ea2c79a-cb94-41d8-8640-32f9c9d84810",
      "cell_type": "code",
      "source": "",
      "metadata": {
        "trusted": true
      },
      "outputs": [],
      "execution_count": null
    }
  ]
}